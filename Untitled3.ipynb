{
  "nbformat": 4,
  "nbformat_minor": 0,
  "metadata": {
    "colab": {
      "provenance": [],
      "authorship_tag": "ABX9TyMfy9RTgoDqWSXI5LQtd5Bz",
      "include_colab_link": true
    },
    "kernelspec": {
      "name": "python3",
      "display_name": "Python 3"
    },
    "language_info": {
      "name": "python"
    }
  },
  "cells": [
    {
      "cell_type": "markdown",
      "metadata": {
        "id": "view-in-github",
        "colab_type": "text"
      },
      "source": [
        "<a href=\"https://colab.research.google.com/github/atik81/AI/blob/main/Untitled3.ipynb\" target=\"_parent\"><img src=\"https://colab.research.google.com/assets/colab-badge.svg\" alt=\"Open In Colab\"/></a>"
      ]
    },
    {
      "cell_type": "code",
      "execution_count": 1,
      "metadata": {
        "id": "Pm-X_OM7Rhs_"
      },
      "outputs": [],
      "source": [
        "import numpy as np\n",
        "\n"
      ]
    },
    {
      "cell_type": "code",
      "source": [
        "#loading the Dataset\n",
        "dataset = np.genfromtxt('./sample_data/normal_distribution.csv', delimiter=',')"
      ],
      "metadata": {
        "id": "h7KuZMSLW2M8"
      },
      "execution_count": 2,
      "outputs": []
    },
    {
      "cell_type": "code",
      "source": [
        "#showing the first two row of the dataset\n",
        "dataset[0:2]"
      ],
      "metadata": {
        "colab": {
          "base_uri": "https://localhost:8080/"
        },
        "id": "g6TH55vfW5iE",
        "outputId": "5640acc9-0193-4759-b048-24991bb89a27"
      },
      "execution_count": 3,
      "outputs": [
        {
          "output_type": "execute_result",
          "data": {
            "text/plain": [
              "array([[ 99.14931546, 104.03852715, 107.43534677,  97.85230675,\n",
              "         98.74986914,  98.80833412,  96.81964892,  98.56783189],\n",
              "       [ 92.02628776,  97.10439252,  99.32066924,  97.24584816,\n",
              "         92.9267508 ,  92.65657752, 105.7197853 , 101.23162942]])"
            ]
          },
          "metadata": {},
          "execution_count": 3
        }
      ]
    },
    {
      "cell_type": "code",
      "source": [
        "#q5: calculate the median of the last 3 columns\n",
        "np.median(dataset[:, -3:])"
      ],
      "metadata": {
        "colab": {
          "base_uri": "https://localhost:8080/"
        },
        "id": "YF-6ZWviaOco",
        "outputId": "9a6a5738-fcab-4a08-828f-ad2acec4d7a3"
      },
      "execution_count": 9,
      "outputs": [
        {
          "output_type": "execute_result",
          "data": {
            "text/plain": [
              "99.47332349999999"
            ]
          },
          "metadata": {},
          "execution_count": 9
        }
      ]
    },
    {
      "cell_type": "code",
      "source": [
        "#q6: calculate the median of each row\n",
        "np.median(dataset, axis=1)"
      ],
      "metadata": {
        "colab": {
          "base_uri": "https://localhost:8080/"
        },
        "id": "RrOsYY7uaOe2",
        "outputId": "90c5c59a-65db-4461-b560-9d6b020f42df"
      },
      "execution_count": 10,
      "outputs": [
        {
          "output_type": "execute_result",
          "data": {
            "text/plain": [
              "array([ 98.77910163,  97.17512034,  98.58782879, 100.68449836,\n",
              "       101.00170737,  97.76908825, 101.85002253, 100.04756697,\n",
              "       102.24292555,  99.59514997, 100.4955753 ,  99.8860714 ,\n",
              "        99.00647994,  98.67276177, 102.44376222,  96.61933565,\n",
              "       104.0968893 , 100.72023043,  98.70877396,  99.75008654,\n",
              "       104.89344428, 101.00634942,  98.30543801,  99.18748092])"
            ]
          },
          "metadata": {},
          "execution_count": 10
        }
      ]
    },
    {
      "cell_type": "code",
      "source": [
        "#q7: calculate the varience of each column\n",
        "np.var(dataset, axis=0)\n"
      ],
      "metadata": {
        "colab": {
          "base_uri": "https://localhost:8080/"
        },
        "id": "2FCkVpDjaOjX",
        "outputId": "90fe230d-6f38-44ba-95d0-64a4e1299827"
      },
      "execution_count": 12,
      "outputs": [
        {
          "output_type": "execute_result",
          "data": {
            "text/plain": [
              "array([23.64757465, 29.78886109, 20.50542011, 26.03204443, 28.38853175,\n",
              "       19.09960817, 17.67291174, 16.17923204])"
            ]
          },
          "metadata": {},
          "execution_count": 12
        }
      ]
    },
    {
      "cell_type": "code",
      "source": [
        "#Question 8) calculate the variance of the intersection of the last 2 rows and first 2 columns\n",
        "np.var(dataset[-2:, :2])\n"
      ],
      "metadata": {
        "colab": {
          "base_uri": "https://localhost:8080/"
        },
        "id": "5LPiQF-NaOmh",
        "outputId": "bbdb6ce5-597c-4850-ce70-c50727bfda7a"
      },
      "execution_count": 13,
      "outputs": [
        {
          "output_type": "execute_result",
          "data": {
            "text/plain": [
              "4.674691991769191"
            ]
          },
          "metadata": {},
          "execution_count": 13
        }
      ]
    },
    {
      "cell_type": "code",
      "source": [
        "#Question 9) calculate the standard deviation for the dataset\n",
        "np.std(dataset)\n"
      ],
      "metadata": {
        "colab": {
          "base_uri": "https://localhost:8080/"
        },
        "id": "F3JZO6gdbTmA",
        "outputId": "f3827890-9f04-41fb-9d0c-d075b63bceeb"
      },
      "execution_count": 14,
      "outputs": [
        {
          "output_type": "execute_result",
          "data": {
            "text/plain": [
              "4.838197554269257"
            ]
          },
          "metadata": {},
          "execution_count": 14
        }
      ]
    },
    {
      "cell_type": "code",
      "source": [
        "#q1) calculate the mean of the first row\n",
        "\n",
        "np.mean(dataset[0])"
      ],
      "metadata": {
        "colab": {
          "base_uri": "https://localhost:8080/"
        },
        "id": "GVo_yqjlXF_z",
        "outputId": "1d5cd104-8cd7-48b0-c881-0971cfeaaadc"
      },
      "execution_count": 4,
      "outputs": [
        {
          "output_type": "execute_result",
          "data": {
            "text/plain": [
              "100.177647525"
            ]
          },
          "metadata": {},
          "execution_count": 4
        }
      ]
    },
    {
      "cell_type": "code",
      "source": [
        "#q2: calculate the mean of the last column\n",
        "np.mean(dataset[:,-1])"
      ],
      "metadata": {
        "colab": {
          "base_uri": "https://localhost:8080/"
        },
        "id": "D96UseBVXmOj",
        "outputId": "14eb37d8-1499-49ef-cd8a-c0a204fb24cf"
      },
      "execution_count": 5,
      "outputs": [
        {
          "output_type": "execute_result",
          "data": {
            "text/plain": [
              "100.4404927375"
            ]
          },
          "metadata": {},
          "execution_count": 5
        }
      ]
    },
    {
      "cell_type": "code",
      "source": [
        "#q3:calculate the mean of the intersection of the first 3 rows and first 3 columns\n",
        "np.mean(dataset[0:3, 0:3])\n",
        "\n"
      ],
      "metadata": {
        "id": "SbIjlHnMYIXX"
      },
      "execution_count": null,
      "outputs": []
    },
    {
      "cell_type": "code",
      "source": [
        "#q4:calculate  the median of the last row\n",
        "np.median(dataset[-1])"
      ],
      "metadata": {
        "colab": {
          "base_uri": "https://localhost:8080/"
        },
        "id": "rgT01xORZCju",
        "outputId": "8715505b-1664-4ada-e817-69c05bbfcb1e"
      },
      "execution_count": 15,
      "outputs": [
        {
          "output_type": "execute_result",
          "data": {
            "text/plain": [
              "99.18748092"
            ]
          },
          "metadata": {},
          "execution_count": 15
        }
      ]
    },
    {
      "cell_type": "code",
      "source": [
        "#Activity 2: Basic Data Visualisation in Python\n",
        "import pandas as pd\n",
        "import numpy as np\n",
        "import matplotlib.pyplot as plt\n",
        "import seaborn as sns\n",
        "from sklearn.datasets import load_iris\n",
        "\n"
      ],
      "metadata": {
        "id": "Br9Q3nOqbeb8"
      },
      "execution_count": 17,
      "outputs": []
    },
    {
      "cell_type": "code",
      "source": [
        "iris = pd.read_csv('/content/sample_data/iris.csv')"
      ],
      "metadata": {
        "id": "jfcjvypYbeqe"
      },
      "execution_count": 19,
      "outputs": []
    },
    {
      "cell_type": "code",
      "source": [
        "#q10:print number of rows and columns\n",
        "print(iris.shape)\n",
        ">(150, 5)\n"
      ],
      "metadata": {
        "colab": {
          "base_uri": "https://localhost:8080/",
          "height": 140
        },
        "id": "Dypdnv2bbe5E",
        "outputId": "30da8ebf-0dd5-4718-cb1b-8b7ed88e16eb"
      },
      "execution_count": 21,
      "outputs": [
        {
          "output_type": "error",
          "ename": "SyntaxError",
          "evalue": "ignored",
          "traceback": [
            "\u001b[0;36m  File \u001b[0;32m\"<ipython-input-21-d7496352109d>\"\u001b[0;36m, line \u001b[0;32m3\u001b[0m\n\u001b[0;31m    >(150, 5)\u001b[0m\n\u001b[0m    ^\u001b[0m\n\u001b[0;31mSyntaxError\u001b[0m\u001b[0;31m:\u001b[0m invalid syntax\n"
          ]
        }
      ]
    },
    {
      "cell_type": "code",
      "source": [],
      "metadata": {
        "id": "5TpSFxxobfFR"
      },
      "execution_count": null,
      "outputs": []
    },
    {
      "cell_type": "code",
      "source": [],
      "metadata": {
        "id": "r-mKENNXbfH5"
      },
      "execution_count": null,
      "outputs": []
    }
  ]
}